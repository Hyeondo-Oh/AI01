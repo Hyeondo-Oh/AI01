{
  "nbformat": 4,
  "nbformat_minor": 0,
  "metadata": {
    "colab": {
      "name": "AI00_lab.ipynb",
      "provenance": [],
      "collapsed_sections": [],
      "include_colab_link": true
    },
    "kernelspec": {
      "name": "python3",
      "display_name": "Python 3"
    }
  },
  "cells": [
    {
      "cell_type": "markdown",
      "metadata": {
        "id": "view-in-github",
        "colab_type": "text"
      },
      "source": [
        "<a href=\"https://colab.research.google.com/github/Hyeondo-Oh/AI01/blob/master/AI00_lab.ipynb\" target=\"_parent\"><img src=\"https://colab.research.google.com/assets/colab-badge.svg\" alt=\"Open In Colab\"/></a>"
      ]
    },
    {
      "cell_type": "markdown",
      "metadata": {
        "id": "IdEx-0_3rCHJ",
        "colab_type": "text"
      },
      "source": [
        "# AI00_lab\n",
        "\n",
        "\n",
        "\n"
      ]
    },
    {
      "cell_type": "markdown",
      "metadata": {
        "id": "pIgrjqQc43Mt",
        "colab_type": "text"
      },
      "source": [
        "#### 문제 1.\n",
        "\n",
        "n = 5 일 때,\n",
        "n + nn + nnn 의 값을 구하는 코드를 작성하세요."
      ]
    },
    {
      "cell_type": "code",
      "metadata": {
        "id": "PYEK9V0JzSlk",
        "colab_type": "code",
        "colab": {}
      },
      "source": [
        ""
      ],
      "execution_count": null,
      "outputs": []
    },
    {
      "cell_type": "markdown",
      "metadata": {
        "id": "R4FXdqDE6I6m",
        "colab_type": "text"
      },
      "source": [
        "#### 문제 2.\n",
        "1에서 10까지 출력하고자 한다.\n",
        "무한루프에 빠지지 않도록 다음 코드를 수정하세요."
      ]
    },
    {
      "cell_type": "code",
      "metadata": {
        "id": "DsJQ7-346H-K",
        "colab_type": "code",
        "colab": {}
      },
      "source": [
        "a = 1\n",
        "\n",
        "while(a > 0):\n",
        "    a = a + 1\n",
        "    print('a =', a)"
      ],
      "execution_count": null,
      "outputs": []
    },
    {
      "cell_type": "markdown",
      "metadata": {
        "id": "Km7twplb75ie",
        "colab_type": "text"
      },
      "source": [
        "#### 문제 3. \n",
        "시간당 페이가 7530원일 때, 20시간을 일한 결과를 구하고자 한다.\n",
        "다음 코드를 완성하세요."
      ]
    },
    {
      "cell_type": "code",
      "metadata": {
        "id": "lYnPZA837VnE",
        "colab_type": "code",
        "colab": {}
      },
      "source": [
        "\n",
        "\n",
        "\n",
        "pay = hours * rate\n",
        "print( pay )"
      ],
      "execution_count": null,
      "outputs": []
    },
    {
      "cell_type": "markdown",
      "metadata": {
        "id": "mE_JoU6o8iGq",
        "colab_type": "text"
      },
      "source": [
        "#### 문제 4.\n",
        "다음 점수 기준에 따라 Grade가 정해지는 코드를 완성하세요.\n",
        "\n",
        "90점 이상: A\n",
        "80점 이상: B\n",
        "70점 이상: C\n",
        "나머지: F"
      ]
    },
    {
      "cell_type": "code",
      "metadata": {
        "id": "o7aIscvN81aZ",
        "colab_type": "code",
        "colab": {
          "base_uri": "https://localhost:8080/",
          "height": 35
        },
        "outputId": "2632c549-fb11-4044-bab1-238f8f8c6c01"
      },
      "source": [
        "score = 60\n",
        "\n",
        "if score == 100:\n",
        "    print('A')\n",
        "else:\n",
        "    print('F')"
      ],
      "execution_count": null,
      "outputs": [
        {
          "output_type": "stream",
          "text": [
            "F\n"
          ],
          "name": "stdout"
        }
      ]
    },
    {
      "cell_type": "code",
      "metadata": {
        "id": "y5EuBitk9OTs",
        "colab_type": "code",
        "colab": {}
      },
      "source": [
        ""
      ],
      "execution_count": null,
      "outputs": []
    }
  ]
}